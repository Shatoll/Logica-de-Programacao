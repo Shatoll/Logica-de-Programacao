{
  "nbformat": 4,
  "nbformat_minor": 0,
  "metadata": {
    "colab": {
      "provenance": [],
      "collapsed_sections": [],
      "authorship_tag": "ABX9TyNONbzgKq/ofiz/atYiV1Mx",
      "include_colab_link": true
    },
    "kernelspec": {
      "name": "python3",
      "display_name": "Python 3"
    },
    "language_info": {
      "name": "python"
    }
  },
  "cells": [
    {
      "cell_type": "markdown",
      "metadata": {
        "id": "view-in-github",
        "colab_type": "text"
      },
      "source": [
        "<a href=\"https://colab.research.google.com/github/Shatoll/Logica-de-Programacao/blob/main/Practice_Introduction_to_Python.ipynb\" target=\"_parent\"><img src=\"https://colab.research.google.com/assets/colab-badge.svg\" alt=\"Open In Colab\"/></a>"
      ]
    },
    {
      "cell_type": "code",
      "execution_count": 4,
      "metadata": {
        "colab": {
          "base_uri": "https://localhost:8080/"
        },
        "id": "F1nvlwuLv6em",
        "outputId": "21329534-5d24-47c9-8c3f-dccd59e6f757"
      },
      "outputs": [
        {
          "output_type": "stream",
          "name": "stdout",
          "text": [
            "6666\n"
          ]
        }
      ],
      "source": [
        "print(\"6\" * (2 **2))\n",
        "# A multiplicação de \"6\" (string) por 4 (2^2) resulta em \"6666\". Portanto, não há multiplicação numérica."
      ]
    },
    {
      "cell_type": "code",
      "source": [
        "x = [-1, -2]\n",
        "del(x[0])\n",
        "# A função del() deletará o elemento selecionado da lista referida. A sequência de elementos inicia em 0. Neste caso, deletou o primeiro elemento (-1) da lista x.\n",
        "print(x[0])\n",
        "\n",
        "x =[-1, -3, 17]\n",
        "del(x[0])\n",
        "print(x[1])\n",
        "# O primeiro elemento (-1) foi deletado. Em seguida, o segundo termo dos elementos restantes foi impresso."
      ],
      "metadata": {
        "colab": {
          "base_uri": "https://localhost:8080/"
        },
        "id": "eO7JIjaNxJMh",
        "outputId": "00fda128-5b45-48de-d764-547c415b88bc"
      },
      "execution_count": 9,
      "outputs": [
        {
          "output_type": "stream",
          "name": "stdout",
          "text": [
            "-2\n",
            "17\n"
          ]
        }
      ]
    },
    {
      "cell_type": "code",
      "source": [
        "import math\n",
        "# O módulo math dá acesso a funções matemáticas da linguagem de progrmação C.\n",
        "print(math .pi + 4)\n",
        "# Através do módulo math, é possível identificar a variável pi (3.14159...)."
      ],
      "metadata": {
        "colab": {
          "base_uri": "https://localhost:8080/"
        },
        "id": "En-jq9nO06RL",
        "outputId": "85086ef4-4bd6-4b03-c1c1-5797b4e4ed82"
      },
      "execution_count": 11,
      "outputs": [
        {
          "output_type": "stream",
          "name": "stdout",
          "text": [
            "7.141592653589793\n"
          ]
        }
      ]
    },
    {
      "cell_type": "code",
      "source": [
        "import numpy\n",
        "# O módulo numpy possibilita operações metemáticas como arranjos, matrizes, etc.\n",
        "n = numpy.array([1, 2, 3])\n",
        "# Deve-se referenciar a função como módulo.função().\n",
        "print(n)\n",
        "\n",
        "import numpy as np\n",
        "# Para evitar repetição, pode-se renomear o módulo por um nome menor através do comando \"as\".\n",
        "m = np.array([2, 4, 6])\n",
        "print(m)\n",
        "\n",
        "from numpy import array\n",
        "# Caso necessário, você é capaz de importar apenas uma função específica (array) de um módulo.\n",
        "l = n * 3\n",
        "# Realização da multiplicação do módulo \"l\" por 3.\n",
        "print(l)"
      ],
      "metadata": {
        "colab": {
          "base_uri": "https://localhost:8080/"
        },
        "id": "VlJ_HMhN4tPK",
        "outputId": "06d87a10-d1f1-4e78-f029-81b5b45a7cf8"
      },
      "execution_count": 19,
      "outputs": [
        {
          "output_type": "stream",
          "name": "stdout",
          "text": [
            "[1 2 3]\n",
            "[2 4 6]\n",
            "[3 6 9]\n"
          ]
        }
      ]
    }
  ]
}