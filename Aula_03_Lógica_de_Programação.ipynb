{
  "nbformat": 4,
  "nbformat_minor": 0,
  "metadata": {
    "colab": {
      "name": "Aula 03 - Lógica de Programação.ipynb",
      "provenance": [],
      "history_visible": true,
      "collapsed_sections": []
    },
    "kernelspec": {
      "name": "python3",
      "display_name": "Python 3"
    },
    "language_info": {
      "name": "python"
    }
  },
  "cells": [
    {
      "cell_type": "code",
      "source": [
        "nome = str(input(\"Informe seu nome............: \"))\n",
        "nasc = int(input(\"Informe ano de nascimento...: \"))\n",
        "hoje = int(input(\"Informe ano atual...........: \"))\n",
        "idade = hoje - nasc\n",
        "print(\"Olá, %s\" %nome)\n",
        "print(\"Você possui em torno de %d anos de idade\" %idade)"
      ],
      "metadata": {
        "colab": {
          "base_uri": "https://localhost:8080/"
        },
        "id": "o6up3XrbBg5x",
        "outputId": "d564ba62-5791-44b1-be14-938d0f10a82e"
      },
      "execution_count": null,
      "outputs": [
        {
          "output_type": "stream",
          "name": "stdout",
          "text": [
            "Informe seu nome............: Gustavo\n",
            "Informe ano de nascimento...: 2003\n",
            "Informe ano atual...........: 2022\n",
            "Olá, Gustavo\n",
            "Você possui em torno de 19 anos de idade\n"
          ]
        }
      ]
    },
    {
      "cell_type": "code",
      "source": [
        "print(\"Big Data no Agroneg´cio é TOP!\")"
      ],
      "metadata": {
        "colab": {
          "base_uri": "https://localhost:8080/"
        },
        "id": "TUMY54l3LshA",
        "outputId": "d450759b-a0d0-4bff-ab38-cd242d7bf988"
      },
      "execution_count": null,
      "outputs": [
        {
          "output_type": "stream",
          "name": "stdout",
          "text": [
            "Big Data no Agroneg´cio é TOP!\n"
          ]
        }
      ]
    },
    {
      "cell_type": "code",
      "source": [
        "velocidade = int(input(\"Qual é a velocidade do seu movimento em km/h?\"))\n",
        "tempo = int(input(\"Por quanto tempo (horas)?\"))\n",
        "distância = tempo * velocidade\n",
        "print(\"A distância que você percorreu é/são %.2f quilômetros\" %distância)"
      ],
      "metadata": {
        "colab": {
          "base_uri": "https://localhost:8080/"
        },
        "id": "7d4fu1eoDiGg",
        "outputId": "54b24177-6534-4ffa-fa75-cd8bf6c158d0"
      },
      "execution_count": null,
      "outputs": [
        {
          "output_type": "stream",
          "name": "stdout",
          "text": [
            "Qual é a velocidade do seu movimento em km/h?25\n",
            "Por quanto tempo (horas)?5\n",
            "A distância que você percorreu é/são 125.00 quilômetros\n"
          ]
        }
      ]
    },
    {
      "cell_type": "code",
      "source": [
        "nome = str(input(\"Qual é o seu nome completo? \"))\n",
        "print(\"O seu nome completo é %s\" %nome)\n"
      ],
      "metadata": {
        "colab": {
          "base_uri": "https://localhost:8080/"
        },
        "id": "WPUuY5V7H3Bk",
        "outputId": "c7e7469b-90f2-4385-b69b-395af29efab6"
      },
      "execution_count": null,
      "outputs": [
        {
          "output_type": "stream",
          "name": "stdout",
          "text": [
            "Qual é o seu nome completo? Gustavo H. K. Oliveira\n",
            "O seu nome completo é Gustavo H. K. Oliveira\n"
          ]
        }
      ]
    },
    {
      "cell_type": "code",
      "source": [
        "nome = \"João\"\n",
        "idade = 22\n",
        "valor = 51.34\n",
        "print(nome,\"tem\",idade,\"anos e tem R$\", valor)\n",
        "print(\"{} de {} anos tem R$ {}\".format(nome,idade,valor))\n",
        "print(f\"{nome} de {idade} anos tem R$ {valor}\")"
      ],
      "metadata": {
        "colab": {
          "base_uri": "https://localhost:8080/"
        },
        "id": "PPDrvemO4QPv",
        "outputId": "4d7ef406-38bd-49d7-9d92-bde45cdb1e0f"
      },
      "execution_count": null,
      "outputs": [
        {
          "output_type": "stream",
          "name": "stdout",
          "text": [
            "João tem 22 anos e tem R$ 51.34\n",
            "João de 22 anos tem R$ 51.34\n",
            "João de 22 anos tem R$ 51.34\n"
          ]
        }
      ]
    },
    {
      "cell_type": "code",
      "source": [
        "nome = \"João\"\n",
        "idade = 22\n",
        "valor = 51.34\n",
        "print(\"%s de %d anos tem R$ %.2f\" %(nome,idade,valor))"
      ],
      "metadata": {
        "colab": {
          "base_uri": "https://localhost:8080/"
        },
        "id": "QjCu9Rg17ZWr",
        "outputId": "ad2f9a77-9a62-4912-c5ef-ed367153433a"
      },
      "execution_count": null,
      "outputs": [
        {
          "output_type": "stream",
          "name": "stdout",
          "text": [
            "João de 22 anos tem R$ 51.34\n"
          ]
        }
      ]
    },
    {
      "cell_type": "code",
      "source": [
        "print(\"Informe seu nome: \")\n",
        "nome = input()\n",
        "print(\"Olá, %s\" %nome)"
      ],
      "metadata": {
        "colab": {
          "base_uri": "https://localhost:8080/"
        },
        "id": "29ngyHRz-w1A",
        "outputId": "fd1d0538-43cf-44c9-d6e5-6ebf87551cf2"
      },
      "execution_count": null,
      "outputs": [
        {
          "output_type": "stream",
          "name": "stdout",
          "text": [
            "Informe seu nome: \n",
            "Gustavo\n",
            "Olá, Gustavo\n"
          ]
        }
      ]
    },
    {
      "cell_type": "code",
      "source": [
        "nome = input(\"Informe seu nome: \")\n",
        "print(\"Olá, %s\" %nome)\n"
      ],
      "metadata": {
        "colab": {
          "base_uri": "https://localhost:8080/"
        },
        "id": "n46rri_F7jwy",
        "outputId": "2b932b7e-5ff4-4941-ebc6-31f7d4a5a12b"
      },
      "execution_count": null,
      "outputs": [
        {
          "output_type": "stream",
          "name": "stdout",
          "text": [
            "Informe seu nome: Gustavo\n",
            "Olá, Gustavo\n"
          ]
        }
      ]
    }
  ]
}