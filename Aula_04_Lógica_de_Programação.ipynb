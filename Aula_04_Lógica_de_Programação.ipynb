{
  "nbformat": 4,
  "nbformat_minor": 0,
  "metadata": {
    "colab": {
      "name": "Aula 04 - Lógica de Programação.ipynb",
      "provenance": [],
      "collapsed_sections": [],
      "authorship_tag": "ABX9TyNc1vKjI4gi6DmmlToQJkSA",
      "include_colab_link": true
    },
    "kernelspec": {
      "name": "python3",
      "display_name": "Python 3"
    },
    "language_info": {
      "name": "python"
    }
  },
  "cells": [
    {
      "cell_type": "markdown",
      "metadata": {
        "id": "view-in-github",
        "colab_type": "text"
      },
      "source": [
        "<a href=\"https://colab.research.google.com/github/Shatoll/Aula-03---L-gica-de-Programa-o/blob/main/Aula_04_L%C3%B3gica_de_Programa%C3%A7%C3%A3o.ipynb\" target=\"_parent\"><img src=\"https://colab.research.google.com/assets/colab-badge.svg\" alt=\"Open In Colab\"/></a>"
      ]
    },
    {
      "cell_type": "code",
      "execution_count": 2,
      "metadata": {
        "colab": {
          "base_uri": "https://localhost:8080/"
        },
        "id": "NfeFAla_cacQ",
        "outputId": "aceffa99-35de-46c2-83c1-6cf639a66f77"
      },
      "outputs": [
        {
          "output_type": "stream",
          "name": "stdout",
          "text": [
            "Gustavo H. K. Oliveira\n",
            "(11) 96779-2259\n",
            "R. Nelo Antônio Corradi, 388\n"
          ]
        }
      ],
      "source": [
        "print(\"Gustavo H. K. Oliveira\")\n",
        "print(\"(11) 96779-2259\")\n",
        "print(\"R. Nelo Antônio Corradi, 388\")"
      ]
    },
    {
      "cell_type": "code",
      "source": [
        "nome = str(input(\"Qual é o seu nome? \"))\n",
        "número_telefone = int(input(\"Qual é o seu número de telefone? \"))\n",
        "nome_rua = str(input(\"Qual é o nome da sua rua? \"))\n",
        "print(\"%s, o seu número de telefone é %d e o seu endereço é %s\" %(nome,número_telefone,nome_rua))"
      ],
      "metadata": {
        "colab": {
          "base_uri": "https://localhost:8080/"
        },
        "id": "cdwD1fdZdFLh",
        "outputId": "b2c24d22-9f22-45a0-8cc7-4505e3080b68"
      },
      "execution_count": 10,
      "outputs": [
        {
          "output_type": "stream",
          "name": "stdout",
          "text": [
            "Qual é o seu nome? Gustavo\n",
            "Qual é o seu número de telefone? 11967792259\n",
            "Qual é o nome da sua rua? R. Nelo Antônio Corradi, 388\n",
            "Gustavo, o seu número de telefone é 11967792259 e o seu endereço é R. Nelo Antônio Corradi, 388\n"
          ]
        }
      ]
    },
    {
      "cell_type": "code",
      "source": [
        "nome = str(input(\"Digite o seu nome: \"))\n",
        "print(\"O seu nome é %s\" %nome)\n",
        "número_telefone = int(input(\"Digite o seu número de telefone: \"))\n",
        "print(\"O seu número de telefone é %i\" %número_telefone)\n",
        "nome_rua = str(input(\"Digite o nome de sua rua: \"))\n",
        "print(\"O nome da sua rua é %s\" %nome_rua)"
      ],
      "metadata": {
        "colab": {
          "base_uri": "https://localhost:8080/"
        },
        "id": "gxl4HjCkfvqM",
        "outputId": "3a0e7321-cd80-46c8-e276-1567ee20b6f3"
      },
      "execution_count": 13,
      "outputs": [
        {
          "output_type": "stream",
          "name": "stdout",
          "text": [
            "Digite o seu nome: Gustavo\n",
            "O seu nome é Gustavo\n",
            "Digite o seu número de telefone: 11967792259\n",
            "O seu número de telefone é 11967792259\n",
            "Digite o nome de sua rua: R. Nelo Antônio Corradi, 388\n",
            "O nome da sua rua é R. Nelo Antônio Corradi, 388\n"
          ]
        }
      ]
    },
    {
      "cell_type": "code",
      "source": [
        "print(\"Primeira sequência\")\n",
        "A = 10\n",
        "B = 20\n",
        "print(A, B)\n",
        "print(\"Segunda sequência\")\n",
        "aux = B\n",
        "B = A\n",
        "A = aux\n",
        "print(A, B)"
      ],
      "metadata": {
        "colab": {
          "base_uri": "https://localhost:8080/"
        },
        "id": "DMKma0-gjATz",
        "outputId": "aa6243fa-856b-40aa-90fa-e11f9bf3cbb2"
      },
      "execution_count": 23,
      "outputs": [
        {
          "output_type": "stream",
          "name": "stdout",
          "text": [
            "Primeira sequência\n",
            "10 20\n",
            "Segunda sequência\n",
            "20 10\n"
          ]
        }
      ]
    },
    {
      "cell_type": "code",
      "source": [
        "print(\"Exemplo de Tupla:\")\n",
        "a = 10\n",
        "b = 20\n",
        "print(a,b)\n",
        "a,b = b,a\n",
        "print(a,b)"
      ],
      "metadata": {
        "colab": {
          "base_uri": "https://localhost:8080/"
        },
        "id": "UOP4VJDensXd",
        "outputId": "0b7fc144-cdb9-45dc-8a13-b9a3e942a11a"
      },
      "execution_count": 25,
      "outputs": [
        {
          "output_type": "stream",
          "name": "stdout",
          "text": [
            "Exemplo de Tupla\n",
            "10 20\n",
            "20 10\n"
          ]
        }
      ]
    },
    {
      "cell_type": "code",
      "source": [
        "nome = str(input(\"O nome completo do meu colega? \"))\n",
        "print(\"O nome dele é %s\" %nome)"
      ],
      "metadata": {
        "colab": {
          "base_uri": "https://localhost:8080/"
        },
        "id": "StIQ89_Mn5o-",
        "outputId": "19144062-e5a9-4a4d-b84e-b16b7ab3e50e"
      },
      "execution_count": 27,
      "outputs": [
        {
          "output_type": "stream",
          "name": "stdout",
          "text": [
            "O nome completo do meu colega?G\n",
            "O nome dele é G\n"
          ]
        }
      ]
    },
    {
      "cell_type": "code",
      "source": [
        "print(\"Segundos calculados\")\n",
        "Dias = int(input(\"Dias: \"))\n",
        "Dias_segundos = Dias*24*60*60\n",
        "Horas = int(input(\"Horas: \"))\n",
        "Horas_segundos = Horas*60*60\n",
        "Minutos = int(input(\"Minutos: \"))\n",
        "Minutos_segundos = Minutos*60\n",
        "Segundos = int(input(\"Segundos: \"))\n",
        "Segundos_Total = Dias_segundos + Horas_segundos + Minutos_segundos + Segundos\n",
        "print(\"Você calculou %i segundos\" %Segundos_Total)\n",
        "\n",
        "# Lembrar de Atribuir valor às variáveis;\n",
        "# Variáveis não recebem operações matemáticas."
      ],
      "metadata": {
        "id": "MMfkGOyEwcGH"
      },
      "execution_count": null,
      "outputs": []
    },
    {
      "cell_type": "markdown",
      "source": [
        "dias = int(input(\"Digite a quantidade de dias \"))\n",
        "#print(dias)\n",
        "horas = int(input(\"Digite a quantidade de horas \"))\n",
        "#print(horas)\n",
        "minutos = int(input(\"Digite a quantidade de minutos \"))\n",
        "#print(minutos)\n",
        "segundos = int(input(\"Digite a quantidade de segundos \"))\n",
        "#print(segundos)\n",
        "total_segundos = int\n",
        "total_segundos = dias*24*60*60 + hora*60*60 + minutos*60 + segundos\n",
        "print(\"Segundos totais = %i\" %tota_segundos)"
      ],
      "metadata": {
        "id": "7gKK1Wrg7Bos"
      }
    },
    {
      "cell_type": "code",
      "source": [
        "print(\"Qual é o seu salário mensal?\")\n",
        "salário_mensal = float(input(\"O meu salário mensal é: \"))\n",
        "percentual_ajuste = float(input(\"O percentual de reajuste (em decimal) é: \"))\n",
        "salário_reajustado = salário_mensal * percentual_ajuste\n",
        "print(\"O seu salário reajustado é %i\" %salário_reajustado)"
      ],
      "metadata": {
        "colab": {
          "base_uri": "https://localhost:8080/"
        },
        "id": "spDgsOYx8zCQ",
        "outputId": "eb759279-a812-434d-e867-b90b990f7aed"
      },
      "execution_count": 48,
      "outputs": [
        {
          "output_type": "stream",
          "name": "stdout",
          "text": [
            "Qual é o seu salário mensal?\n",
            "O meu salário mensal (sem moedas) é: 1220\n",
            "O percentual de reajuste (em decimal) é: 0.9\n",
            "O seu salário reajustado é 1098\n"
          ]
        }
      ]
    },
    {
      "cell_type": "code",
      "source": [
        "preço_litro = float(input(\"Qual é o preço do combustível? \"))\n",
        "distância = float(input(\"Qual é a distância entre as duas cidades em km? \"))\n",
        "desempenho_veículo = float(input(\"Qual é o desempenho do veículo em km/l? \"))\n",
        "consumo = distância / desempenho_veículo\n",
        "gasto = preço_litro * consumo\n",
        "print(\"Consumo de combustível: %d litros\" %consumo)\n",
        "print(\"Dinheiro gasto na viagem: R$%.2f\" %gasto)\n"
      ],
      "metadata": {
        "colab": {
          "base_uri": "https://localhost:8080/"
        },
        "id": "vHOqYl1hJUha",
        "outputId": "fbcf0d5d-5679-404d-feb4-6d832bba28dc"
      },
      "execution_count": 57,
      "outputs": [
        {
          "output_type": "stream",
          "name": "stdout",
          "text": [
            "Qual é o preço do combustível? 5\n",
            "Qual é a distância entre as duas cidades em km? 100\n",
            "Qual é o desempenho do veículo em km/l? 10\n",
            "Consumo de combustível: 10 litros\n",
            "dinheiro gasto na viagem: R$50.00\n"
          ]
        }
      ]
    }
  ]
}